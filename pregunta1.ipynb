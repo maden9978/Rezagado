{
 "cells": [
  {
   "cell_type": "code",
   "execution_count": 1,
   "id": "9afcd419",
   "metadata": {},
   "outputs": [],
   "source": [
    "import urllib.request, urllib.parse, urllib.error\n",
    "import pandas as pd\n",
    "from bs4 import BeautifulSoup\n",
    "\n",
    "url = \"https://pubmed.ncbi.nlm.nih.gov/?term=phylogenetic+AND+%28machine+OR+deep%29+AND+learning\"\n",
    "html = urllib.request.urlopen(url).read()\n",
    "soup = BeautifulSoup(html, 'html.parser')"
   ]
  },
  {
   "cell_type": "code",
   "execution_count": 2,
   "id": "4cac0436",
   "metadata": {},
   "outputs": [],
   "source": [
    "rows = soup.find('div',class_=\"search-results-chunks\").find_all(\"article\")"
   ]
  },
  {
   "cell_type": "code",
   "execution_count": 3,
   "id": "0481a01c",
   "metadata": {},
   "outputs": [],
   "source": [
    "Titulos = []\n",
    "\n",
    "for row in rows:\n",
    "    title = row.find(\"a\")\n",
    "    Titulos.append(title.text)"
   ]
  },
  {
   "cell_type": "code",
   "execution_count": 4,
   "id": "b53124a8",
   "metadata": {},
   "outputs": [
    {
     "data": {
      "text/plain": [
       "['\\n                A Deep Learning Approach to Antibiotic Discovery.\\n              ',\n",
       " '\\n                A metabolomics pipeline for the mechanistic interrogation of the gut microbiome.\\n              ',\n",
       " '\\n                Harnessing machine learning to guide phylogenetic-tree search algorithms.\\n              ',\n",
       " '\\n                Meta-Analysis Reveals Reproducible Gut Microbiome Alterations in Response to a High-Fat Diet.\\n              ',\n",
       " '\\n                MEGA11: Molecular Evolutionary Genetics Analysis Version 11.\\n              ',\n",
       " '\\n                Predicting direct and indirect non-target impacts of biocontrol agents using machine-learning approaches.\\n              ',\n",
       " '\\n                A comparative study of the gut microbiota in immune-mediated inflammatory diseases-does a common dysbiosis exist?\\n              ',\n",
       " '\\n                Pollen analysis using multispectral imaging flow cytometry and deep learning.\\n              ',\n",
       " '\\n                Ensembling of Gene Clusters Utilizing Deep Learning and Protein-Protein Interaction Information.\\n              ',\n",
       " '\\n                AAV capsid design: A Goldilocks challenge.\\n              ']"
      ]
     },
     "execution_count": 4,
     "metadata": {},
     "output_type": "execute_result"
    }
   ],
   "source": [
    "Titulos"
   ]
  },
  {
   "cell_type": "code",
   "execution_count": 5,
   "id": "7470529f",
   "metadata": {},
   "outputs": [],
   "source": [
    "Autores = []\n",
    "\n",
    "for row in rows:\n",
    "    autor = row.find(\"span\", class_=\"docsum-authors short-authors\")\n",
    "    Autores.append(autor.text)"
   ]
  },
  {
   "cell_type": "code",
   "execution_count": 6,
   "id": "93ce97b7",
   "metadata": {},
   "outputs": [
    {
     "data": {
      "text/plain": [
       "['Stokes JM, et al.',\n",
       " 'Han S, et al.',\n",
       " 'Azouri D, et al.',\n",
       " 'Bisanz JE, et al.',\n",
       " 'Tamura K, et al.',\n",
       " 'Kotula HJ, et al.',\n",
       " 'Forbes JD, et al.',\n",
       " 'Dunker S, et al.',\n",
       " 'Dutta P, et al.',\n",
       " 'Zolotukhin S, et al.']"
      ]
     },
     "execution_count": 6,
     "metadata": {},
     "output_type": "execute_result"
    }
   ],
   "source": [
    "Autores"
   ]
  },
  {
   "cell_type": "code",
   "execution_count": 7,
   "id": "16c6d3ff",
   "metadata": {},
   "outputs": [
    {
     "data": {
      "text/plain": [
       "['Cell. 2020 Feb 20;180(4):688-702.e13. doi: 10.1016/j.cell.2020.01.021.',\n",
       " 'Nature. 2021 Jul;595(7867):415-420. doi: 10.1038/s41586-021-03707-9. Epub 2021 Jul 14.',\n",
       " 'Nat Commun. 2021 Mar 31;12(1):1983. doi: 10.1038/s41467-021-22073-8.',\n",
       " 'Cell Host Microbe. 2019 Aug 14;26(2):265-272.e4. doi: 10.1016/j.chom.2019.06.013. Epub 2019 Jul 16.',\n",
       " 'Mol Biol Evol. 2021 Jun 25;38(7):3022-3027. doi: 10.1093/molbev/msab120.',\n",
       " 'PLoS One. 2021 Jun 1;16(6):e0252448. doi: 10.1371/journal.pone.0252448. eCollection 2021.',\n",
       " 'Microbiome. 2018 Dec 13;6(1):221. doi: 10.1186/s40168-018-0603-4.',\n",
       " 'New Phytol. 2021 Jan;229(1):593-606. doi: 10.1111/nph.16882. Epub 2020 Sep 22.',\n",
       " 'IEEE/ACM Trans Comput Biol Bioinform. 2020 Nov-Dec;17(6):2005-2016. doi: 10.1109/TCBB.2019.2918523. Epub 2020 Dec 8.',\n",
       " 'Trends Mol Med. 2022 Mar;28(3):183-193. doi: 10.1016/j.molmed.2022.01.003. Epub 2022 Jan 29.']"
      ]
     },
     "execution_count": 7,
     "metadata": {},
     "output_type": "execute_result"
    }
   ],
   "source": [
    "DOI = []\n",
    "\n",
    "for row in rows:\n",
    "    doi = row.find(\"span\",class_=\"docsum-journal-citation full-journal-citation\")\n",
    "    DOI.append(doi.text)\n",
    "\n",
    "DOI\n"
   ]
  },
  {
   "cell_type": "code",
   "execution_count": 8,
   "id": "fd314cc7",
   "metadata": {},
   "outputs": [],
   "source": [
    "Revistas = []\n",
    "for row in rows:\n",
    "    revista = row.find(\"span\", class_=\"docsum-journal-citation short-journal-citation\")\n",
    "    Revistas.append(revista.text)"
   ]
  },
  {
   "cell_type": "code",
   "execution_count": 9,
   "id": "d59cadc7",
   "metadata": {},
   "outputs": [
    {
     "data": {
      "text/plain": [
       "['Cell. 2020.',\n",
       " 'Nature. 2021.',\n",
       " 'Nat Commun. 2021.',\n",
       " 'Cell Host Microbe. 2019.',\n",
       " 'Mol Biol Evol. 2021.',\n",
       " 'PLoS One. 2021.',\n",
       " 'Microbiome. 2018.',\n",
       " 'New Phytol. 2021.',\n",
       " 'IEEE/ACM Trans Comput Biol Bioinform. 2020.',\n",
       " 'Trends Mol Med. 2022.']"
      ]
     },
     "execution_count": 9,
     "metadata": {},
     "output_type": "execute_result"
    }
   ],
   "source": [
    "Revistas"
   ]
  },
  {
   "cell_type": "code",
   "execution_count": 10,
   "id": "ad8aa307",
   "metadata": {},
   "outputs": [],
   "source": [
    "df = pd.DataFrame({\"Titulo\":Titulos, \"Autor\":Autores, \"Revista\":Revistas, \"DOI\" : DOI})"
   ]
  },
  {
   "cell_type": "code",
   "execution_count": 11,
   "id": "155e09b2",
   "metadata": {},
   "outputs": [
    {
     "data": {
      "text/html": [
       "<div>\n",
       "<style scoped>\n",
       "    .dataframe tbody tr th:only-of-type {\n",
       "        vertical-align: middle;\n",
       "    }\n",
       "\n",
       "    .dataframe tbody tr th {\n",
       "        vertical-align: top;\n",
       "    }\n",
       "\n",
       "    .dataframe thead th {\n",
       "        text-align: right;\n",
       "    }\n",
       "</style>\n",
       "<table border=\"1\" class=\"dataframe\">\n",
       "  <thead>\n",
       "    <tr style=\"text-align: right;\">\n",
       "      <th></th>\n",
       "      <th>Titulo</th>\n",
       "      <th>Autor</th>\n",
       "      <th>Revista</th>\n",
       "      <th>DOI</th>\n",
       "    </tr>\n",
       "  </thead>\n",
       "  <tbody>\n",
       "    <tr>\n",
       "      <th>0</th>\n",
       "      <td>\\n                A Deep Learning Approach to ...</td>\n",
       "      <td>Stokes JM, et al.</td>\n",
       "      <td>Cell. 2020.</td>\n",
       "      <td>Cell. 2020 Feb 20;180(4):688-702.e13. doi: 10....</td>\n",
       "    </tr>\n",
       "    <tr>\n",
       "      <th>1</th>\n",
       "      <td>\\n                A metabolomics pipeline for ...</td>\n",
       "      <td>Han S, et al.</td>\n",
       "      <td>Nature. 2021.</td>\n",
       "      <td>Nature. 2021 Jul;595(7867):415-420. doi: 10.10...</td>\n",
       "    </tr>\n",
       "    <tr>\n",
       "      <th>2</th>\n",
       "      <td>\\n                Harnessing machine learning ...</td>\n",
       "      <td>Azouri D, et al.</td>\n",
       "      <td>Nat Commun. 2021.</td>\n",
       "      <td>Nat Commun. 2021 Mar 31;12(1):1983. doi: 10.10...</td>\n",
       "    </tr>\n",
       "    <tr>\n",
       "      <th>3</th>\n",
       "      <td>\\n                Meta-Analysis Reveals Reprod...</td>\n",
       "      <td>Bisanz JE, et al.</td>\n",
       "      <td>Cell Host Microbe. 2019.</td>\n",
       "      <td>Cell Host Microbe. 2019 Aug 14;26(2):265-272.e...</td>\n",
       "    </tr>\n",
       "    <tr>\n",
       "      <th>4</th>\n",
       "      <td>\\n                MEGA11: Molecular Evolutiona...</td>\n",
       "      <td>Tamura K, et al.</td>\n",
       "      <td>Mol Biol Evol. 2021.</td>\n",
       "      <td>Mol Biol Evol. 2021 Jun 25;38(7):3022-3027. do...</td>\n",
       "    </tr>\n",
       "    <tr>\n",
       "      <th>5</th>\n",
       "      <td>\\n                Predicting direct and indire...</td>\n",
       "      <td>Kotula HJ, et al.</td>\n",
       "      <td>PLoS One. 2021.</td>\n",
       "      <td>PLoS One. 2021 Jun 1;16(6):e0252448. doi: 10.1...</td>\n",
       "    </tr>\n",
       "    <tr>\n",
       "      <th>6</th>\n",
       "      <td>\\n                A comparative study of the g...</td>\n",
       "      <td>Forbes JD, et al.</td>\n",
       "      <td>Microbiome. 2018.</td>\n",
       "      <td>Microbiome. 2018 Dec 13;6(1):221. doi: 10.1186...</td>\n",
       "    </tr>\n",
       "    <tr>\n",
       "      <th>7</th>\n",
       "      <td>\\n                Pollen analysis using multis...</td>\n",
       "      <td>Dunker S, et al.</td>\n",
       "      <td>New Phytol. 2021.</td>\n",
       "      <td>New Phytol. 2021 Jan;229(1):593-606. doi: 10.1...</td>\n",
       "    </tr>\n",
       "    <tr>\n",
       "      <th>8</th>\n",
       "      <td>\\n                Ensembling of Gene Clusters ...</td>\n",
       "      <td>Dutta P, et al.</td>\n",
       "      <td>IEEE/ACM Trans Comput Biol Bioinform. 2020.</td>\n",
       "      <td>IEEE/ACM Trans Comput Biol Bioinform. 2020 Nov...</td>\n",
       "    </tr>\n",
       "    <tr>\n",
       "      <th>9</th>\n",
       "      <td>\\n                AAV capsid design: A Goldilo...</td>\n",
       "      <td>Zolotukhin S, et al.</td>\n",
       "      <td>Trends Mol Med. 2022.</td>\n",
       "      <td>Trends Mol Med. 2022 Mar;28(3):183-193. doi: 1...</td>\n",
       "    </tr>\n",
       "  </tbody>\n",
       "</table>\n",
       "</div>"
      ],
      "text/plain": [
       "                                              Titulo                 Autor  \\\n",
       "0  \\n                A Deep Learning Approach to ...     Stokes JM, et al.   \n",
       "1  \\n                A metabolomics pipeline for ...         Han S, et al.   \n",
       "2  \\n                Harnessing machine learning ...      Azouri D, et al.   \n",
       "3  \\n                Meta-Analysis Reveals Reprod...     Bisanz JE, et al.   \n",
       "4  \\n                MEGA11: Molecular Evolutiona...      Tamura K, et al.   \n",
       "5  \\n                Predicting direct and indire...     Kotula HJ, et al.   \n",
       "6  \\n                A comparative study of the g...     Forbes JD, et al.   \n",
       "7  \\n                Pollen analysis using multis...      Dunker S, et al.   \n",
       "8  \\n                Ensembling of Gene Clusters ...       Dutta P, et al.   \n",
       "9  \\n                AAV capsid design: A Goldilo...  Zolotukhin S, et al.   \n",
       "\n",
       "                                       Revista  \\\n",
       "0                                  Cell. 2020.   \n",
       "1                                Nature. 2021.   \n",
       "2                            Nat Commun. 2021.   \n",
       "3                     Cell Host Microbe. 2019.   \n",
       "4                         Mol Biol Evol. 2021.   \n",
       "5                              PLoS One. 2021.   \n",
       "6                            Microbiome. 2018.   \n",
       "7                            New Phytol. 2021.   \n",
       "8  IEEE/ACM Trans Comput Biol Bioinform. 2020.   \n",
       "9                        Trends Mol Med. 2022.   \n",
       "\n",
       "                                                 DOI  \n",
       "0  Cell. 2020 Feb 20;180(4):688-702.e13. doi: 10....  \n",
       "1  Nature. 2021 Jul;595(7867):415-420. doi: 10.10...  \n",
       "2  Nat Commun. 2021 Mar 31;12(1):1983. doi: 10.10...  \n",
       "3  Cell Host Microbe. 2019 Aug 14;26(2):265-272.e...  \n",
       "4  Mol Biol Evol. 2021 Jun 25;38(7):3022-3027. do...  \n",
       "5  PLoS One. 2021 Jun 1;16(6):e0252448. doi: 10.1...  \n",
       "6  Microbiome. 2018 Dec 13;6(1):221. doi: 10.1186...  \n",
       "7  New Phytol. 2021 Jan;229(1):593-606. doi: 10.1...  \n",
       "8  IEEE/ACM Trans Comput Biol Bioinform. 2020 Nov...  \n",
       "9  Trends Mol Med. 2022 Mar;28(3):183-193. doi: 1...  "
      ]
     },
     "execution_count": 11,
     "metadata": {},
     "output_type": "execute_result"
    }
   ],
   "source": [
    "df"
   ]
  },
  {
   "cell_type": "code",
   "execution_count": 13,
   "id": "ea08ef3d",
   "metadata": {},
   "outputs": [],
   "source": [
    "import csv\n",
    "df.to_csv('pregunta1', encoding = 'utf-8')"
   ]
  },
  {
   "cell_type": "code",
   "execution_count": null,
   "id": "1dad5b42",
   "metadata": {},
   "outputs": [],
   "source": []
  }
 ],
 "metadata": {
  "kernelspec": {
   "display_name": "Python 3 (ipykernel)",
   "language": "python",
   "name": "python3"
  },
  "language_info": {
   "codemirror_mode": {
    "name": "ipython",
    "version": 3
   },
   "file_extension": ".py",
   "mimetype": "text/x-python",
   "name": "python",
   "nbconvert_exporter": "python",
   "pygments_lexer": "ipython3",
   "version": "3.9.12"
  }
 },
 "nbformat": 4,
 "nbformat_minor": 5
}
